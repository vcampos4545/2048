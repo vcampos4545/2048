{
 "cells": [
  {
   "cell_type": "code",
   "execution_count": 12,
   "id": "d8146b7d",
   "metadata": {},
   "outputs": [],
   "source": [
    "import numpy as np"
   ]
  },
  {
   "cell_type": "code",
   "execution_count": 13,
   "id": "3f410149",
   "metadata": {},
   "outputs": [],
   "source": [
    "grid = np.zeros((4, 4))\n",
    "new_vals = 0\n",
    "while new_vals < 2:\n",
    "    val = np.random.choice([2, 4])\n",
    "    i = np.random.randint(0, 3)\n",
    "    j = np.random.randint(0, 3)\n",
    "    if grid[i, j] == 0:\n",
    "        grid[i, j] = val\n",
    "        new_vals += 1"
   ]
  },
  {
   "cell_type": "code",
   "execution_count": 14,
   "id": "6b8c9b4f",
   "metadata": {},
   "outputs": [
    {
     "data": {
      "text/plain": [
       "array([[0., 0., 0., 0.],\n",
       "       [0., 0., 0., 0.],\n",
       "       [2., 0., 4., 0.],\n",
       "       [0., 0., 0., 0.]])"
      ]
     },
     "execution_count": 14,
     "metadata": {},
     "output_type": "execute_result"
    }
   ],
   "source": [
    "grid"
   ]
  },
  {
   "cell_type": "code",
   "execution_count": 28,
   "id": "771ddbc7",
   "metadata": {},
   "outputs": [],
   "source": [
    "def slide(arr, dir):\n",
    "    \"\"\"\n",
    "    [slide] slides and combines the numbers in [arr] in the direction\n",
    "    [dir] with the following rules:\n",
    "    1. if dir is 1, then slide and combine numbers to the left\n",
    "    2. if dir is -1, slide and combine numbers to the right\n",
    "    3. numbers can be combined only if they are slid into a block with the same\n",
    "    value (i.e. 2 -> 2 becomes 4, 4->4 becomes 8, 2->4 does not combine)\n",
    "    4. Numbers can only be combined once in a slide (4->4->8 is 4->8 not 16)\n",
    "    5. Numbers are slide such that no gaps exist in the row and all numbers have been slide\n",
    "    or combined\n",
    "    \n",
    "    Steps:\n",
    "    1. flip array if dir is -1\n",
    "    2. loop through each element\n",
    "        a. find spot to slide to (spot to combine with or with next 0)\n",
    "    \"\"\"\n",
    "    if dir == -1:\n",
    "        temp = np.flip(np.copy(arr))\n",
    "    else:\n",
    "        temp = np.copy(arr)\n",
    "    #For each element (after the 0th)\n",
    "    combined = [False]*len(temp) #tracks which positions have been combined\n",
    "    for i in range(1, len(temp)):\n",
    "        \n",
    "        if temp[i] == 0: continue\n",
    "        \n",
    "        #Finds next spot with next nonzero or 0th index\n",
    "        idx = i-1\n",
    "        while idx > 0 and temp[idx] == 0:\n",
    "            idx -= 1\n",
    "        \n",
    "        if temp[idx] != 0 and temp[idx] != temp[i]:\n",
    "            idx += 1\n",
    "        \n",
    "        if idx == i: continue\n",
    "\n",
    "        if temp[idx] == temp[i] and not combined[idx]:\n",
    "            #then combine\n",
    "            temp[idx] = temp[idx] * 2\n",
    "            temp[i] = 0\n",
    "            combined[idx] = True\n",
    "        elif temp[idx] == 0:\n",
    "            #Slide number\n",
    "            temp[idx] = temp[i]\n",
    "            temp[i] = 0\n",
    "        \n",
    "        print(idx, temp)\n",
    "    \n",
    "    return np.flip(temp) if dir == -1 else temp"
   ]
  },
  {
   "cell_type": "code",
   "execution_count": 29,
   "id": "b8f23e0d",
   "metadata": {},
   "outputs": [
    {
     "name": "stdout",
     "output_type": "stream",
     "text": [
      "1 [4 4 0 0]\n",
      "[4 4 0 0]\n",
      "This should print: [4,4,0,0]\n"
     ]
    }
   ],
   "source": [
    "print(slide([4,2,2,0], dir=1))\n",
    "print(\"This should print: [4,4,0,0]\")"
   ]
  },
  {
   "cell_type": "code",
   "execution_count": 30,
   "id": "23705ff7",
   "metadata": {},
   "outputs": [
    {
     "name": "stdout",
     "output_type": "stream",
     "text": [
      "0 [4 0 2 2]\n",
      "1 [4 2 0 2]\n",
      "1 [4 4 0 0]\n",
      "[4 4 0 0]\n",
      "This should print: [4,4,0,0]\n"
     ]
    }
   ],
   "source": [
    "print(slide([2,2,2,2], dir=1))\n",
    "print(\"This should print: [4,4,0,0]\")"
   ]
  },
  {
   "cell_type": "code",
   "execution_count": null,
   "id": "a9ca6fd2",
   "metadata": {},
   "outputs": [],
   "source": []
  }
 ],
 "metadata": {
  "kernelspec": {
   "display_name": "Python 3 (ipykernel)",
   "language": "python",
   "name": "python3"
  },
  "language_info": {
   "codemirror_mode": {
    "name": "ipython",
    "version": 3
   },
   "file_extension": ".py",
   "mimetype": "text/x-python",
   "name": "python",
   "nbconvert_exporter": "python",
   "pygments_lexer": "ipython3",
   "version": "3.10.9"
  }
 },
 "nbformat": 4,
 "nbformat_minor": 5
}
